{
 "cells": [
  {
   "cell_type": "code",
   "execution_count": 1,
   "metadata": {},
   "outputs": [],
   "source": [
    "#import Numpy library\n",
    "import numpy as np\n",
    "\n"
   ]
  },
  {
   "cell_type": "code",
   "execution_count": 2,
   "metadata": {},
   "outputs": [],
   "source": [
    "# first Numpy array\n",
    "first_numpy_array = np.array([1,2,3,4])\n"
   ]
  },
  {
   "cell_type": "code",
   "execution_count": 3,
   "metadata": {},
   "outputs": [
    {
     "name": "stdout",
     "output_type": "stream",
     "text": [
      "[1 2 3 4]\n"
     ]
    }
   ],
   "source": [
    "#print first array\n",
    "print (first_numpy_array)\n"
   ]
  },
  {
   "cell_type": "code",
   "execution_count": 4,
   "metadata": {},
   "outputs": [
    {
     "data": {
      "text/plain": [
       "array([[0., 0., 0.],\n",
       "       [0., 0., 0.],\n",
       "       [0., 0., 0.]])"
      ]
     },
     "execution_count": 4,
     "metadata": {},
     "output_type": "execute_result"
    }
   ],
   "source": [
    "#array with zeroes\n",
    "array_with_zeroes = np.zeros((3,3))\n",
    "array_with_zeroes\n"
   ]
  },
  {
   "cell_type": "code",
   "execution_count": 5,
   "metadata": {},
   "outputs": [
    {
     "data": {
      "text/plain": [
       "array([[1., 1., 1.],\n",
       "       [1., 1., 1.],\n",
       "       [1., 1., 1.]])"
      ]
     },
     "execution_count": 5,
     "metadata": {},
     "output_type": "execute_result"
    }
   ],
   "source": [
    "#array with ones\n",
    "array_with_ones = np.ones((3,3))\n",
    "array_with_ones\n"
   ]
  },
  {
   "cell_type": "code",
   "execution_count": 6,
   "metadata": {},
   "outputs": [
    {
     "data": {
      "text/plain": [
       "array([[0., 0., 0.],\n",
       "       [0., 0., 0.]])"
      ]
     },
     "execution_count": 6,
     "metadata": {},
     "output_type": "execute_result"
    }
   ],
   "source": [
    "#array with empty\n",
    "# caution this is a random number generator\n",
    "array_with_empty = np.empty ((2,3))\n",
    "array_with_empty\n",
    "\n"
   ]
  },
  {
   "cell_type": "code",
   "execution_count": 7,
   "metadata": {},
   "outputs": [
    {
     "data": {
      "text/plain": [
       "array([ 0,  1,  2,  3,  4,  5,  6,  7,  8,  9, 10, 11])"
      ]
     },
     "execution_count": 7,
     "metadata": {},
     "output_type": "execute_result"
    }
   ],
   "source": [
    "#array with arrange method\n",
    "array_with_arrange = np.arange((12))\n",
    "array_with_arrange\n",
    "\n"
   ]
  },
  {
   "cell_type": "code",
   "execution_count": 8,
   "metadata": {},
   "outputs": [
    {
     "name": "stdout",
     "output_type": "stream",
     "text": [
      "[1.   2.25 3.5  4.75 6.  ]\n"
     ]
    }
   ],
   "source": [
    "#linspace\n",
    "np_linsplace = np.linspace(1,6,5)\n",
    "print (np_linsplace)\n",
    "\n"
   ]
  },
  {
   "cell_type": "code",
   "execution_count": 9,
   "metadata": {},
   "outputs": [
    {
     "data": {
      "text/plain": [
       "array([1, 2, 3, 4, 5, 6, 7, 8, 9])"
      ]
     },
     "execution_count": 9,
     "metadata": {},
     "output_type": "execute_result"
    }
   ],
   "source": [
    "# 2 D array\n",
    "\n",
    "two_d_array = np.array([x for x in range (1,10)])\n",
    "two_d_array\n",
    " "
   ]
  },
  {
   "cell_type": "code",
   "execution_count": 10,
   "metadata": {},
   "outputs": [
    {
     "data": {
      "text/plain": [
       "array([[1, 2, 3],\n",
       "       [4, 5, 6],\n",
       "       [7, 8, 9]])"
      ]
     },
     "execution_count": 10,
     "metadata": {},
     "output_type": "execute_result"
    }
   ],
   "source": [
    "two_d_array.reshape(3,3)\n"
   ]
  },
  {
   "cell_type": "code",
   "execution_count": 11,
   "metadata": {},
   "outputs": [
    {
     "data": {
      "text/plain": [
       "array([ 1,  2,  3,  4,  5,  6,  7,  8,  9, 10, 11, 12])"
      ]
     },
     "execution_count": 11,
     "metadata": {},
     "output_type": "execute_result"
    }
   ],
   "source": [
    "# 3d array\n",
    "three_D_array = np.array([x for x in range (1,13)])\n",
    "three_D_array\n"
   ]
  },
  {
   "cell_type": "code",
   "execution_count": 12,
   "metadata": {},
   "outputs": [
    {
     "data": {
      "text/plain": [
       "array([[[ 1,  2],\n",
       "        [ 3,  4]],\n",
       "\n",
       "       [[ 5,  6],\n",
       "        [ 7,  8]],\n",
       "\n",
       "       [[ 9, 10],\n",
       "        [11, 12]]])"
      ]
     },
     "execution_count": 12,
     "metadata": {},
     "output_type": "execute_result"
    }
   ],
   "source": [
    "three_D_array.reshape(3,2,2)\n"
   ]
  },
  {
   "cell_type": "code",
   "execution_count": 13,
   "metadata": {},
   "outputs": [
    {
     "data": {
      "text/plain": [
       "array([0, 1, 2, 3, 4, 5, 6, 7, 8, 9])"
      ]
     },
     "execution_count": 13,
     "metadata": {},
     "output_type": "execute_result"
    }
   ],
   "source": [
    "# Conditional statements\n",
    "x = np.array([i for i in range(10)])\n",
    "x\n",
    " "
   ]
  },
  {
   "cell_type": "code",
   "execution_count": 14,
   "metadata": {},
   "outputs": [
    {
     "data": {
      "text/plain": [
       "array(['Even', 'Odd', 'Even', 'Odd', 'Even', 'Odd', 'Even', 'Odd', 'Even',\n",
       "       'Odd'], dtype='<U4')"
      ]
     },
     "execution_count": 14,
     "metadata": {},
     "output_type": "execute_result"
    }
   ],
   "source": [
    "np.where(x%2==0,'Even', 'Odd')\n"
   ]
  },
  {
   "cell_type": "code",
   "execution_count": 15,
   "metadata": {},
   "outputs": [],
   "source": [
    "condlist = [x<5, x>5]\n",
    "choicelist = [x**2, x**3]\n"
   ]
  },
  {
   "cell_type": "code",
   "execution_count": 16,
   "metadata": {},
   "outputs": [
    {
     "data": {
      "text/plain": [
       "array([  0,   1,   4,   9,  16,   5, 216, 343, 512, 729])"
      ]
     },
     "execution_count": 16,
     "metadata": {},
     "output_type": "execute_result"
    }
   ],
   "source": [
    "np.select(condlist, choicelist, default=x)\n"
   ]
  },
  {
   "cell_type": "code",
   "execution_count": 19,
   "metadata": {},
   "outputs": [
    {
     "ename": "TypeError",
     "evalue": "Field elements must be 2- or 3-tuples, got '4'",
     "output_type": "error",
     "traceback": [
      "\u001b[0;31m---------------------------------------------------------------------------\u001b[0m",
      "\u001b[0;31mTypeError\u001b[0m                                 Traceback (most recent call last)",
      "\u001b[1;32m/Users/michaeldionne/Library/CloudStorage/Dropbox/AI_ML Bootcamp/Caltech-AI-Machine-Learning-Bootcamp/Course4_Applied Data Science with Python/Lectures/Lesson 3 PY Libraries for Data Science/Numpy lecture.ipynb Cell 17\u001b[0m in \u001b[0;36m<cell line: 2>\u001b[0;34m()\u001b[0m\n\u001b[1;32m      <a href='vscode-notebook-cell:/Users/michaeldionne/Library/CloudStorage/Dropbox/AI_ML%20Bootcamp/Caltech-AI-Machine-Learning-Bootcamp/Course4_Applied%20Data%20Science%20with%20Python/Lectures/Lesson%203%20PY%20Libraries%20for%20Data%20Science/Numpy%20lecture.ipynb#X22sZmlsZQ%3D%3D?line=0'>1</a>\u001b[0m array_1d \u001b[39m=\u001b[39m np\u001b[39m.\u001b[39marray([ \u001b[39m1\u001b[39m,  \u001b[39m2\u001b[39m,  \u001b[39m3\u001b[39m,  \u001b[39m4\u001b[39m,  \u001b[39m5\u001b[39m,  \u001b[39m6\u001b[39m])\n\u001b[0;32m----> <a href='vscode-notebook-cell:/Users/michaeldionne/Library/CloudStorage/Dropbox/AI_ML%20Bootcamp/Caltech-AI-Machine-Learning-Bootcamp/Course4_Applied%20Data%20Science%20with%20Python/Lectures/Lesson%203%20PY%20Libraries%20for%20Data%20Science/Numpy%20lecture.ipynb#X22sZmlsZQ%3D%3D?line=1'>2</a>\u001b[0m array_2d \u001b[39m=\u001b[39m np\u001b[39m.\u001b[39;49marray([ \u001b[39m1\u001b[39;49m,  \u001b[39m2\u001b[39;49m,  \u001b[39m3\u001b[39;49m], [\u001b[39m4\u001b[39;49m,  \u001b[39m5\u001b[39;49m,  \u001b[39m6\u001b[39;49m])\n\u001b[1;32m      <a href='vscode-notebook-cell:/Users/michaeldionne/Library/CloudStorage/Dropbox/AI_ML%20Bootcamp/Caltech-AI-Machine-Learning-Bootcamp/Course4_Applied%20Data%20Science%20with%20Python/Lectures/Lesson%203%20PY%20Libraries%20for%20Data%20Science/Numpy%20lecture.ipynb#X22sZmlsZQ%3D%3D?line=2'>3</a>\u001b[0m array_3d \u001b[39m=\u001b[39m np\u001b[39m.\u001b[39marray([ \u001b[39m1\u001b[39m,  \u001b[39m2\u001b[39m,  \u001b[39m3\u001b[39m], [\u001b[39m4\u001b[39m,  \u001b[39m5\u001b[39m,  \u001b[39m6\u001b[39m], [\u001b[39m7\u001b[39m, \u001b[39m8\u001b[39m, \u001b[39m9\u001b[39m], [\u001b[39m10\u001b[39m, \u001b[39m11\u001b[39m, \u001b[39m12\u001b[39m])\n",
      "\u001b[0;31mTypeError\u001b[0m: Field elements must be 2- or 3-tuples, got '4'"
     ]
    }
   ],
   "source": [
    "array_1d = np.array([ 1,  2,  3,  4,  5,  6])\n",
    "array_2d = np.array([ 1,  2,  3], [4,  5,  6])\n",
    "array_3d = np.array([ 1,  2,  3], [4,  5,  6], [7, 8, 9], [10, 11, 12])\n"
   ]
  },
  {
   "cell_type": "code",
   "execution_count": null,
   "metadata": {},
   "outputs": [],
   "source": []
  }
 ],
 "metadata": {
  "kernelspec": {
   "display_name": "dev39",
   "language": "python",
   "name": "python3"
  },
  "language_info": {
   "codemirror_mode": {
    "name": "ipython",
    "version": 3
   },
   "file_extension": ".py",
   "mimetype": "text/x-python",
   "name": "python",
   "nbconvert_exporter": "python",
   "pygments_lexer": "ipython3",
   "version": "3.9.15"
  },
  "orig_nbformat": 4,
  "vscode": {
   "interpreter": {
    "hash": "4648657766bbdd65badf66c7ee87486bf2636ef3278a37059008db9e63aad833"
   }
  }
 },
 "nbformat": 4,
 "nbformat_minor": 2
}
