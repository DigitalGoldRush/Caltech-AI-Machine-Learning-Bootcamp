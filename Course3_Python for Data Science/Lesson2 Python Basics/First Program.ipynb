print("Hello python 101")

